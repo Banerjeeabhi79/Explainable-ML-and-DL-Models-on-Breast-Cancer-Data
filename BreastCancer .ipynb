{
  "cells": [
    {
      "cell_type": "code",
      "execution_count": null,
      "metadata": {
        "colab": {
          "base_uri": "https://localhost:8080/"
        },
        "id": "GkCj5XTJOZIs",
        "outputId": "d50e9483-6e82-4be4-9d8e-d1283d30c9a9"
      },
      "outputs": [
        {
          "name": "stdout",
          "output_type": "stream",
          "text": [
            "Mounted at /content/drive\n"
          ]
        }
      ],
      "source": [
        "from google.colab import drive\n",
        "drive.mount('/content/drive')"
      ]
    },
    {
      "cell_type": "code",
      "execution_count": null,
      "metadata": {
        "id": "mwCSCtxgOiCX"
      },
      "outputs": [],
      "source": [
        "path='/content/drive/MyDrive/BreastCancer Model/breastCancer dataSet.csv'"
      ]
    },
    {
      "cell_type": "code",
      "execution_count": null,
      "metadata": {
        "id": "SXZlZ0ZvSJmO"
      },
      "outputs": [],
      "source": [
        "# importing libraries \n",
        "import numpy as np\n",
        "import matplotlib.pyplot as plt\n",
        "import pandas as pd\n",
        "import seaborn as sns"
      ]
    },
    {
      "cell_type": "code",
      "execution_count": null,
      "metadata": {
        "id": "2_18ALNaTsKK"
      },
      "outputs": [],
      "source": [
        "# reading csv file\n",
        "\n",
        "df=pd.read_csv(path)"
      ]
    },
    {
      "cell_type": "code",
      "execution_count": null,
      "metadata": {
        "id": "BWQdGEJL6JQG"
      },
      "outputs": [],
      "source": [
        "X=df.drop('Class',axis=1)"
      ]
    },
    {
      "cell_type": "code",
      "execution_count": null,
      "metadata": {
        "id": "5fRaC_QO6Q6p"
      },
      "outputs": [],
      "source": [
        "X=X.replace('?',0)"
      ]
    },
    {
      "cell_type": "code",
      "execution_count": null,
      "metadata": {
        "id": "fYB1z4_J6YFL"
      },
      "outputs": [],
      "source": [
        "Y=df.Class\n",
        "Y=Y.replace([2,4],[0,1])"
      ]
    },
    {
      "cell_type": "code",
      "execution_count": null,
      "metadata": {
        "colab": {
          "base_uri": "https://localhost:8080/",
          "height": 267
        },
        "id": "L89z1UBiXXf4",
        "outputId": "90df18b1-4e75-46ec-9244-2c90179eeebd"
      },
      "outputs": [
        {
          "data": {
            "text/html": [
              "\n",
              "  <div id=\"df-d5ab7cd6-c204-4709-91b0-4dd948ffc096\">\n",
              "    <div class=\"colab-df-container\">\n",
              "      <div>\n",
              "<style scoped>\n",
              "    .dataframe tbody tr th:only-of-type {\n",
              "        vertical-align: middle;\n",
              "    }\n",
              "\n",
              "    .dataframe tbody tr th {\n",
              "        vertical-align: top;\n",
              "    }\n",
              "\n",
              "    .dataframe thead th {\n",
              "        text-align: right;\n",
              "    }\n",
              "</style>\n",
              "<table border=\"1\" class=\"dataframe\">\n",
              "  <thead>\n",
              "    <tr style=\"text-align: right;\">\n",
              "      <th></th>\n",
              "      <th>Sample code number</th>\n",
              "      <th>Clump Thickness</th>\n",
              "      <th>Uniformity of Cell Size</th>\n",
              "      <th>Uniformity of Cell Shape</th>\n",
              "      <th>Marginal Adhesion</th>\n",
              "      <th>Single Epithelial Cell Size</th>\n",
              "      <th>Bare Nuclei</th>\n",
              "      <th>Bland Chromatin</th>\n",
              "      <th>Normal Nucleoli</th>\n",
              "      <th>Mitoses</th>\n",
              "      <th>Class</th>\n",
              "    </tr>\n",
              "  </thead>\n",
              "  <tbody>\n",
              "    <tr>\n",
              "      <th>0</th>\n",
              "      <td>1000025</td>\n",
              "      <td>5</td>\n",
              "      <td>1</td>\n",
              "      <td>1</td>\n",
              "      <td>1</td>\n",
              "      <td>2</td>\n",
              "      <td>1</td>\n",
              "      <td>3</td>\n",
              "      <td>1</td>\n",
              "      <td>1</td>\n",
              "      <td>2</td>\n",
              "    </tr>\n",
              "    <tr>\n",
              "      <th>1</th>\n",
              "      <td>1002945</td>\n",
              "      <td>5</td>\n",
              "      <td>4</td>\n",
              "      <td>4</td>\n",
              "      <td>5</td>\n",
              "      <td>7</td>\n",
              "      <td>10</td>\n",
              "      <td>3</td>\n",
              "      <td>2</td>\n",
              "      <td>1</td>\n",
              "      <td>2</td>\n",
              "    </tr>\n",
              "    <tr>\n",
              "      <th>2</th>\n",
              "      <td>1015425</td>\n",
              "      <td>3</td>\n",
              "      <td>1</td>\n",
              "      <td>1</td>\n",
              "      <td>1</td>\n",
              "      <td>2</td>\n",
              "      <td>2</td>\n",
              "      <td>3</td>\n",
              "      <td>1</td>\n",
              "      <td>1</td>\n",
              "      <td>2</td>\n",
              "    </tr>\n",
              "    <tr>\n",
              "      <th>3</th>\n",
              "      <td>1016277</td>\n",
              "      <td>6</td>\n",
              "      <td>8</td>\n",
              "      <td>8</td>\n",
              "      <td>1</td>\n",
              "      <td>3</td>\n",
              "      <td>4</td>\n",
              "      <td>3</td>\n",
              "      <td>7</td>\n",
              "      <td>1</td>\n",
              "      <td>2</td>\n",
              "    </tr>\n",
              "    <tr>\n",
              "      <th>4</th>\n",
              "      <td>1017023</td>\n",
              "      <td>4</td>\n",
              "      <td>1</td>\n",
              "      <td>1</td>\n",
              "      <td>3</td>\n",
              "      <td>2</td>\n",
              "      <td>1</td>\n",
              "      <td>3</td>\n",
              "      <td>1</td>\n",
              "      <td>1</td>\n",
              "      <td>2</td>\n",
              "    </tr>\n",
              "  </tbody>\n",
              "</table>\n",
              "</div>\n",
              "      <button class=\"colab-df-convert\" onclick=\"convertToInteractive('df-d5ab7cd6-c204-4709-91b0-4dd948ffc096')\"\n",
              "              title=\"Convert this dataframe to an interactive table.\"\n",
              "              style=\"display:none;\">\n",
              "        \n",
              "  <svg xmlns=\"http://www.w3.org/2000/svg\" height=\"24px\"viewBox=\"0 0 24 24\"\n",
              "       width=\"24px\">\n",
              "    <path d=\"M0 0h24v24H0V0z\" fill=\"none\"/>\n",
              "    <path d=\"M18.56 5.44l.94 2.06.94-2.06 2.06-.94-2.06-.94-.94-2.06-.94 2.06-2.06.94zm-11 1L8.5 8.5l.94-2.06 2.06-.94-2.06-.94L8.5 2.5l-.94 2.06-2.06.94zm10 10l.94 2.06.94-2.06 2.06-.94-2.06-.94-.94-2.06-.94 2.06-2.06.94z\"/><path d=\"M17.41 7.96l-1.37-1.37c-.4-.4-.92-.59-1.43-.59-.52 0-1.04.2-1.43.59L10.3 9.45l-7.72 7.72c-.78.78-.78 2.05 0 2.83L4 21.41c.39.39.9.59 1.41.59.51 0 1.02-.2 1.41-.59l7.78-7.78 2.81-2.81c.8-.78.8-2.07 0-2.86zM5.41 20L4 18.59l7.72-7.72 1.47 1.35L5.41 20z\"/>\n",
              "  </svg>\n",
              "      </button>\n",
              "      \n",
              "  <style>\n",
              "    .colab-df-container {\n",
              "      display:flex;\n",
              "      flex-wrap:wrap;\n",
              "      gap: 12px;\n",
              "    }\n",
              "\n",
              "    .colab-df-convert {\n",
              "      background-color: #E8F0FE;\n",
              "      border: none;\n",
              "      border-radius: 50%;\n",
              "      cursor: pointer;\n",
              "      display: none;\n",
              "      fill: #1967D2;\n",
              "      height: 32px;\n",
              "      padding: 0 0 0 0;\n",
              "      width: 32px;\n",
              "    }\n",
              "\n",
              "    .colab-df-convert:hover {\n",
              "      background-color: #E2EBFA;\n",
              "      box-shadow: 0px 1px 2px rgba(60, 64, 67, 0.3), 0px 1px 3px 1px rgba(60, 64, 67, 0.15);\n",
              "      fill: #174EA6;\n",
              "    }\n",
              "\n",
              "    [theme=dark] .colab-df-convert {\n",
              "      background-color: #3B4455;\n",
              "      fill: #D2E3FC;\n",
              "    }\n",
              "\n",
              "    [theme=dark] .colab-df-convert:hover {\n",
              "      background-color: #434B5C;\n",
              "      box-shadow: 0px 1px 3px 1px rgba(0, 0, 0, 0.15);\n",
              "      filter: drop-shadow(0px 1px 2px rgba(0, 0, 0, 0.3));\n",
              "      fill: #FFFFFF;\n",
              "    }\n",
              "  </style>\n",
              "\n",
              "      <script>\n",
              "        const buttonEl =\n",
              "          document.querySelector('#df-d5ab7cd6-c204-4709-91b0-4dd948ffc096 button.colab-df-convert');\n",
              "        buttonEl.style.display =\n",
              "          google.colab.kernel.accessAllowed ? 'block' : 'none';\n",
              "\n",
              "        async function convertToInteractive(key) {\n",
              "          const element = document.querySelector('#df-d5ab7cd6-c204-4709-91b0-4dd948ffc096');\n",
              "          const dataTable =\n",
              "            await google.colab.kernel.invokeFunction('convertToInteractive',\n",
              "                                                     [key], {});\n",
              "          if (!dataTable) return;\n",
              "\n",
              "          const docLinkHtml = 'Like what you see? Visit the ' +\n",
              "            '<a target=\"_blank\" href=https://colab.research.google.com/notebooks/data_table.ipynb>data table notebook</a>'\n",
              "            + ' to learn more about interactive tables.';\n",
              "          element.innerHTML = '';\n",
              "          dataTable['output_type'] = 'display_data';\n",
              "          await google.colab.output.renderOutput(dataTable, element);\n",
              "          const docLink = document.createElement('div');\n",
              "          docLink.innerHTML = docLinkHtml;\n",
              "          element.appendChild(docLink);\n",
              "        }\n",
              "      </script>\n",
              "    </div>\n",
              "  </div>\n",
              "  "
            ],
            "text/plain": [
              "   Sample code number  Clump Thickness  Uniformity of Cell Size  \\\n",
              "0             1000025                5                        1   \n",
              "1             1002945                5                        4   \n",
              "2             1015425                3                        1   \n",
              "3             1016277                6                        8   \n",
              "4             1017023                4                        1   \n",
              "\n",
              "   Uniformity of Cell Shape  Marginal Adhesion  Single Epithelial Cell Size  \\\n",
              "0                         1                  1                            2   \n",
              "1                         4                  5                            7   \n",
              "2                         1                  1                            2   \n",
              "3                         8                  1                            3   \n",
              "4                         1                  3                            2   \n",
              "\n",
              "  Bare Nuclei   Bland Chromatin   Normal Nucleoli  Mitoses  Class  \n",
              "0            1                 3                1        1      2  \n",
              "1           10                 3                2        1      2  \n",
              "2            2                 3                1        1      2  \n",
              "3            4                 3                7        1      2  \n",
              "4            1                 3                1        1      2  "
            ]
          },
          "execution_count": 8,
          "metadata": {},
          "output_type": "execute_result"
        }
      ],
      "source": [
        " df.head()"
      ]
    },
    {
      "cell_type": "code",
      "execution_count": null,
      "metadata": {
        "colab": {
          "base_uri": "https://localhost:8080/"
        },
        "id": "ha5J3papYC80",
        "outputId": "4b1ae77f-e30e-4220-95bb-2df1a9e23692"
      },
      "outputs": [
        {
          "name": "stdout",
          "output_type": "stream",
          "text": [
            "<class 'pandas.core.frame.DataFrame'>\n",
            "RangeIndex: 699 entries, 0 to 698\n",
            "Data columns (total 11 columns):\n",
            " #   Column                       Non-Null Count  Dtype \n",
            "---  ------                       --------------  ----- \n",
            " 0   Sample code number           699 non-null    int64 \n",
            " 1   Clump Thickness              699 non-null    int64 \n",
            " 2   Uniformity of Cell Size      699 non-null    int64 \n",
            " 3   Uniformity of Cell Shape     699 non-null    int64 \n",
            " 4   Marginal Adhesion            699 non-null    int64 \n",
            " 5   Single Epithelial Cell Size  699 non-null    int64 \n",
            " 6   Bare Nuclei                  699 non-null    object\n",
            " 7   Bland Chromatin              699 non-null    int64 \n",
            " 8   Normal Nucleoli              699 non-null    int64 \n",
            " 9   Mitoses                      699 non-null    int64 \n",
            " 10  Class                        699 non-null    int64 \n",
            "dtypes: int64(10), object(1)\n",
            "memory usage: 60.2+ KB\n"
          ]
        }
      ],
      "source": [
        " df.info()"
      ]
    },
    {
      "cell_type": "code",
      "execution_count": null,
      "metadata": {
        "colab": {
          "base_uri": "https://localhost:8080/"
        },
        "id": "f9xuYz-RZPaa",
        "outputId": "0b8f2c68-808d-4033-ed9c-dca63eac271c"
      },
      "outputs": [
        {
          "data": {
            "text/plain": [
              "(699, 11)"
            ]
          },
          "execution_count": 10,
          "metadata": {},
          "output_type": "execute_result"
        }
      ],
      "source": [
        "df.shape"
      ]
    },
    {
      "cell_type": "code",
      "execution_count": null,
      "metadata": {
        "colab": {
          "base_uri": "https://localhost:8080/",
          "height": 362
        },
        "id": "FuyVXXjrr62r",
        "outputId": "d2ae8da4-9b2a-4269-84f2-9f0f5c11e01e"
      },
      "outputs": [
        {
          "data": {
            "text/html": [
              "\n",
              "  <div id=\"df-4eaf1905-08ec-4f91-8736-46ee84623532\">\n",
              "    <div class=\"colab-df-container\">\n",
              "      <div>\n",
              "<style scoped>\n",
              "    .dataframe tbody tr th:only-of-type {\n",
              "        vertical-align: middle;\n",
              "    }\n",
              "\n",
              "    .dataframe tbody tr th {\n",
              "        vertical-align: top;\n",
              "    }\n",
              "\n",
              "    .dataframe thead th {\n",
              "        text-align: right;\n",
              "    }\n",
              "</style>\n",
              "<table border=\"1\" class=\"dataframe\">\n",
              "  <thead>\n",
              "    <tr style=\"text-align: right;\">\n",
              "      <th></th>\n",
              "      <th>Sample code number</th>\n",
              "      <th>Clump Thickness</th>\n",
              "      <th>Uniformity of Cell Size</th>\n",
              "      <th>Uniformity of Cell Shape</th>\n",
              "      <th>Marginal Adhesion</th>\n",
              "      <th>Single Epithelial Cell Size</th>\n",
              "      <th>Bland Chromatin</th>\n",
              "      <th>Normal Nucleoli</th>\n",
              "      <th>Mitoses</th>\n",
              "      <th>Class</th>\n",
              "    </tr>\n",
              "  </thead>\n",
              "  <tbody>\n",
              "    <tr>\n",
              "      <th>count</th>\n",
              "      <td>6.990000e+02</td>\n",
              "      <td>699.000000</td>\n",
              "      <td>699.000000</td>\n",
              "      <td>699.000000</td>\n",
              "      <td>699.000000</td>\n",
              "      <td>699.000000</td>\n",
              "      <td>699.000000</td>\n",
              "      <td>699.000000</td>\n",
              "      <td>699.000000</td>\n",
              "      <td>699.000000</td>\n",
              "    </tr>\n",
              "    <tr>\n",
              "      <th>mean</th>\n",
              "      <td>1.071704e+06</td>\n",
              "      <td>4.417740</td>\n",
              "      <td>3.134478</td>\n",
              "      <td>3.207439</td>\n",
              "      <td>2.806867</td>\n",
              "      <td>3.216023</td>\n",
              "      <td>3.437768</td>\n",
              "      <td>2.866953</td>\n",
              "      <td>1.589413</td>\n",
              "      <td>2.689557</td>\n",
              "    </tr>\n",
              "    <tr>\n",
              "      <th>std</th>\n",
              "      <td>6.170957e+05</td>\n",
              "      <td>2.815741</td>\n",
              "      <td>3.051459</td>\n",
              "      <td>2.971913</td>\n",
              "      <td>2.855379</td>\n",
              "      <td>2.214300</td>\n",
              "      <td>2.438364</td>\n",
              "      <td>3.053634</td>\n",
              "      <td>1.715078</td>\n",
              "      <td>0.951273</td>\n",
              "    </tr>\n",
              "    <tr>\n",
              "      <th>min</th>\n",
              "      <td>6.163400e+04</td>\n",
              "      <td>1.000000</td>\n",
              "      <td>1.000000</td>\n",
              "      <td>1.000000</td>\n",
              "      <td>1.000000</td>\n",
              "      <td>1.000000</td>\n",
              "      <td>1.000000</td>\n",
              "      <td>1.000000</td>\n",
              "      <td>1.000000</td>\n",
              "      <td>2.000000</td>\n",
              "    </tr>\n",
              "    <tr>\n",
              "      <th>25%</th>\n",
              "      <td>8.706885e+05</td>\n",
              "      <td>2.000000</td>\n",
              "      <td>1.000000</td>\n",
              "      <td>1.000000</td>\n",
              "      <td>1.000000</td>\n",
              "      <td>2.000000</td>\n",
              "      <td>2.000000</td>\n",
              "      <td>1.000000</td>\n",
              "      <td>1.000000</td>\n",
              "      <td>2.000000</td>\n",
              "    </tr>\n",
              "    <tr>\n",
              "      <th>50%</th>\n",
              "      <td>1.171710e+06</td>\n",
              "      <td>4.000000</td>\n",
              "      <td>1.000000</td>\n",
              "      <td>1.000000</td>\n",
              "      <td>1.000000</td>\n",
              "      <td>2.000000</td>\n",
              "      <td>3.000000</td>\n",
              "      <td>1.000000</td>\n",
              "      <td>1.000000</td>\n",
              "      <td>2.000000</td>\n",
              "    </tr>\n",
              "    <tr>\n",
              "      <th>75%</th>\n",
              "      <td>1.238298e+06</td>\n",
              "      <td>6.000000</td>\n",
              "      <td>5.000000</td>\n",
              "      <td>5.000000</td>\n",
              "      <td>4.000000</td>\n",
              "      <td>4.000000</td>\n",
              "      <td>5.000000</td>\n",
              "      <td>4.000000</td>\n",
              "      <td>1.000000</td>\n",
              "      <td>4.000000</td>\n",
              "    </tr>\n",
              "    <tr>\n",
              "      <th>max</th>\n",
              "      <td>1.345435e+07</td>\n",
              "      <td>10.000000</td>\n",
              "      <td>10.000000</td>\n",
              "      <td>10.000000</td>\n",
              "      <td>10.000000</td>\n",
              "      <td>10.000000</td>\n",
              "      <td>10.000000</td>\n",
              "      <td>10.000000</td>\n",
              "      <td>10.000000</td>\n",
              "      <td>4.000000</td>\n",
              "    </tr>\n",
              "  </tbody>\n",
              "</table>\n",
              "</div>\n",
              "      <button class=\"colab-df-convert\" onclick=\"convertToInteractive('df-4eaf1905-08ec-4f91-8736-46ee84623532')\"\n",
              "              title=\"Convert this dataframe to an interactive table.\"\n",
              "              style=\"display:none;\">\n",
              "        \n",
              "  <svg xmlns=\"http://www.w3.org/2000/svg\" height=\"24px\"viewBox=\"0 0 24 24\"\n",
              "       width=\"24px\">\n",
              "    <path d=\"M0 0h24v24H0V0z\" fill=\"none\"/>\n",
              "    <path d=\"M18.56 5.44l.94 2.06.94-2.06 2.06-.94-2.06-.94-.94-2.06-.94 2.06-2.06.94zm-11 1L8.5 8.5l.94-2.06 2.06-.94-2.06-.94L8.5 2.5l-.94 2.06-2.06.94zm10 10l.94 2.06.94-2.06 2.06-.94-2.06-.94-.94-2.06-.94 2.06-2.06.94z\"/><path d=\"M17.41 7.96l-1.37-1.37c-.4-.4-.92-.59-1.43-.59-.52 0-1.04.2-1.43.59L10.3 9.45l-7.72 7.72c-.78.78-.78 2.05 0 2.83L4 21.41c.39.39.9.59 1.41.59.51 0 1.02-.2 1.41-.59l7.78-7.78 2.81-2.81c.8-.78.8-2.07 0-2.86zM5.41 20L4 18.59l7.72-7.72 1.47 1.35L5.41 20z\"/>\n",
              "  </svg>\n",
              "      </button>\n",
              "      \n",
              "  <style>\n",
              "    .colab-df-container {\n",
              "      display:flex;\n",
              "      flex-wrap:wrap;\n",
              "      gap: 12px;\n",
              "    }\n",
              "\n",
              "    .colab-df-convert {\n",
              "      background-color: #E8F0FE;\n",
              "      border: none;\n",
              "      border-radius: 50%;\n",
              "      cursor: pointer;\n",
              "      display: none;\n",
              "      fill: #1967D2;\n",
              "      height: 32px;\n",
              "      padding: 0 0 0 0;\n",
              "      width: 32px;\n",
              "    }\n",
              "\n",
              "    .colab-df-convert:hover {\n",
              "      background-color: #E2EBFA;\n",
              "      box-shadow: 0px 1px 2px rgba(60, 64, 67, 0.3), 0px 1px 3px 1px rgba(60, 64, 67, 0.15);\n",
              "      fill: #174EA6;\n",
              "    }\n",
              "\n",
              "    [theme=dark] .colab-df-convert {\n",
              "      background-color: #3B4455;\n",
              "      fill: #D2E3FC;\n",
              "    }\n",
              "\n",
              "    [theme=dark] .colab-df-convert:hover {\n",
              "      background-color: #434B5C;\n",
              "      box-shadow: 0px 1px 3px 1px rgba(0, 0, 0, 0.15);\n",
              "      filter: drop-shadow(0px 1px 2px rgba(0, 0, 0, 0.3));\n",
              "      fill: #FFFFFF;\n",
              "    }\n",
              "  </style>\n",
              "\n",
              "      <script>\n",
              "        const buttonEl =\n",
              "          document.querySelector('#df-4eaf1905-08ec-4f91-8736-46ee84623532 button.colab-df-convert');\n",
              "        buttonEl.style.display =\n",
              "          google.colab.kernel.accessAllowed ? 'block' : 'none';\n",
              "\n",
              "        async function convertToInteractive(key) {\n",
              "          const element = document.querySelector('#df-4eaf1905-08ec-4f91-8736-46ee84623532');\n",
              "          const dataTable =\n",
              "            await google.colab.kernel.invokeFunction('convertToInteractive',\n",
              "                                                     [key], {});\n",
              "          if (!dataTable) return;\n",
              "\n",
              "          const docLinkHtml = 'Like what you see? Visit the ' +\n",
              "            '<a target=\"_blank\" href=https://colab.research.google.com/notebooks/data_table.ipynb>data table notebook</a>'\n",
              "            + ' to learn more about interactive tables.';\n",
              "          element.innerHTML = '';\n",
              "          dataTable['output_type'] = 'display_data';\n",
              "          await google.colab.output.renderOutput(dataTable, element);\n",
              "          const docLink = document.createElement('div');\n",
              "          docLink.innerHTML = docLinkHtml;\n",
              "          element.appendChild(docLink);\n",
              "        }\n",
              "      </script>\n",
              "    </div>\n",
              "  </div>\n",
              "  "
            ],
            "text/plain": [
              "       Sample code number  Clump Thickness  Uniformity of Cell Size  \\\n",
              "count        6.990000e+02       699.000000               699.000000   \n",
              "mean         1.071704e+06         4.417740                 3.134478   \n",
              "std          6.170957e+05         2.815741                 3.051459   \n",
              "min          6.163400e+04         1.000000                 1.000000   \n",
              "25%          8.706885e+05         2.000000                 1.000000   \n",
              "50%          1.171710e+06         4.000000                 1.000000   \n",
              "75%          1.238298e+06         6.000000                 5.000000   \n",
              "max          1.345435e+07        10.000000                10.000000   \n",
              "\n",
              "       Uniformity of Cell Shape  Marginal Adhesion  \\\n",
              "count                699.000000         699.000000   \n",
              "mean                   3.207439           2.806867   \n",
              "std                    2.971913           2.855379   \n",
              "min                    1.000000           1.000000   \n",
              "25%                    1.000000           1.000000   \n",
              "50%                    1.000000           1.000000   \n",
              "75%                    5.000000           4.000000   \n",
              "max                   10.000000          10.000000   \n",
              "\n",
              "       Single Epithelial Cell Size  Bland Chromatin   Normal Nucleoli  \\\n",
              "count                   699.000000        699.000000       699.000000   \n",
              "mean                      3.216023          3.437768         2.866953   \n",
              "std                       2.214300          2.438364         3.053634   \n",
              "min                       1.000000          1.000000         1.000000   \n",
              "25%                       2.000000          2.000000         1.000000   \n",
              "50%                       2.000000          3.000000         1.000000   \n",
              "75%                       4.000000          5.000000         4.000000   \n",
              "max                      10.000000         10.000000        10.000000   \n",
              "\n",
              "          Mitoses       Class  \n",
              "count  699.000000  699.000000  \n",
              "mean     1.589413    2.689557  \n",
              "std      1.715078    0.951273  \n",
              "min      1.000000    2.000000  \n",
              "25%      1.000000    2.000000  \n",
              "50%      1.000000    2.000000  \n",
              "75%      1.000000    4.000000  \n",
              "max     10.000000    4.000000  "
            ]
          },
          "execution_count": 11,
          "metadata": {},
          "output_type": "execute_result"
        }
      ],
      "source": [
        "df.describe()"
      ]
    },
    {
      "cell_type": "code",
      "execution_count": null,
      "metadata": {
        "colab": {
          "base_uri": "https://localhost:8080/",
          "height": 362
        },
        "id": "C5fcuT2b5XAr",
        "outputId": "c8a07ead-dbd3-437f-9540-6b1018e48040"
      },
      "outputs": [
        {
          "data": {
            "text/html": [
              "\n",
              "  <div id=\"df-bf53369c-c2a5-4b33-96d9-1cc2bd8d4cb1\">\n",
              "    <div class=\"colab-df-container\">\n",
              "      <div>\n",
              "<style scoped>\n",
              "    .dataframe tbody tr th:only-of-type {\n",
              "        vertical-align: middle;\n",
              "    }\n",
              "\n",
              "    .dataframe tbody tr th {\n",
              "        vertical-align: top;\n",
              "    }\n",
              "\n",
              "    .dataframe thead th {\n",
              "        text-align: right;\n",
              "    }\n",
              "</style>\n",
              "<table border=\"1\" class=\"dataframe\">\n",
              "  <thead>\n",
              "    <tr style=\"text-align: right;\">\n",
              "      <th></th>\n",
              "      <th>Sample code number</th>\n",
              "      <th>Clump Thickness</th>\n",
              "      <th>Uniformity of Cell Size</th>\n",
              "      <th>Uniformity of Cell Shape</th>\n",
              "      <th>Marginal Adhesion</th>\n",
              "      <th>Single Epithelial Cell Size</th>\n",
              "      <th>Bare Nuclei</th>\n",
              "      <th>Bland Chromatin</th>\n",
              "      <th>Normal Nucleoli</th>\n",
              "      <th>Mitoses</th>\n",
              "      <th>Class</th>\n",
              "    </tr>\n",
              "  </thead>\n",
              "  <tbody>\n",
              "    <tr>\n",
              "      <th>208</th>\n",
              "      <td>1218860</td>\n",
              "      <td>1</td>\n",
              "      <td>1</td>\n",
              "      <td>1</td>\n",
              "      <td>1</td>\n",
              "      <td>1</td>\n",
              "      <td>1</td>\n",
              "      <td>3</td>\n",
              "      <td>1</td>\n",
              "      <td>1</td>\n",
              "      <td>2</td>\n",
              "    </tr>\n",
              "    <tr>\n",
              "      <th>253</th>\n",
              "      <td>1100524</td>\n",
              "      <td>6</td>\n",
              "      <td>10</td>\n",
              "      <td>10</td>\n",
              "      <td>2</td>\n",
              "      <td>8</td>\n",
              "      <td>10</td>\n",
              "      <td>7</td>\n",
              "      <td>3</td>\n",
              "      <td>3</td>\n",
              "      <td>4</td>\n",
              "    </tr>\n",
              "    <tr>\n",
              "      <th>254</th>\n",
              "      <td>1116116</td>\n",
              "      <td>9</td>\n",
              "      <td>10</td>\n",
              "      <td>10</td>\n",
              "      <td>1</td>\n",
              "      <td>10</td>\n",
              "      <td>8</td>\n",
              "      <td>3</td>\n",
              "      <td>3</td>\n",
              "      <td>1</td>\n",
              "      <td>4</td>\n",
              "    </tr>\n",
              "    <tr>\n",
              "      <th>258</th>\n",
              "      <td>1198641</td>\n",
              "      <td>3</td>\n",
              "      <td>1</td>\n",
              "      <td>1</td>\n",
              "      <td>1</td>\n",
              "      <td>2</td>\n",
              "      <td>1</td>\n",
              "      <td>3</td>\n",
              "      <td>1</td>\n",
              "      <td>1</td>\n",
              "      <td>2</td>\n",
              "    </tr>\n",
              "    <tr>\n",
              "      <th>272</th>\n",
              "      <td>320675</td>\n",
              "      <td>3</td>\n",
              "      <td>3</td>\n",
              "      <td>5</td>\n",
              "      <td>2</td>\n",
              "      <td>3</td>\n",
              "      <td>10</td>\n",
              "      <td>7</td>\n",
              "      <td>1</td>\n",
              "      <td>1</td>\n",
              "      <td>4</td>\n",
              "    </tr>\n",
              "    <tr>\n",
              "      <th>338</th>\n",
              "      <td>704097</td>\n",
              "      <td>1</td>\n",
              "      <td>1</td>\n",
              "      <td>1</td>\n",
              "      <td>1</td>\n",
              "      <td>1</td>\n",
              "      <td>1</td>\n",
              "      <td>2</td>\n",
              "      <td>1</td>\n",
              "      <td>1</td>\n",
              "      <td>2</td>\n",
              "    </tr>\n",
              "    <tr>\n",
              "      <th>561</th>\n",
              "      <td>1321942</td>\n",
              "      <td>5</td>\n",
              "      <td>1</td>\n",
              "      <td>1</td>\n",
              "      <td>1</td>\n",
              "      <td>2</td>\n",
              "      <td>1</td>\n",
              "      <td>3</td>\n",
              "      <td>1</td>\n",
              "      <td>1</td>\n",
              "      <td>2</td>\n",
              "    </tr>\n",
              "    <tr>\n",
              "      <th>684</th>\n",
              "      <td>466906</td>\n",
              "      <td>1</td>\n",
              "      <td>1</td>\n",
              "      <td>1</td>\n",
              "      <td>1</td>\n",
              "      <td>2</td>\n",
              "      <td>1</td>\n",
              "      <td>1</td>\n",
              "      <td>1</td>\n",
              "      <td>1</td>\n",
              "      <td>2</td>\n",
              "    </tr>\n",
              "  </tbody>\n",
              "</table>\n",
              "</div>\n",
              "      <button class=\"colab-df-convert\" onclick=\"convertToInteractive('df-bf53369c-c2a5-4b33-96d9-1cc2bd8d4cb1')\"\n",
              "              title=\"Convert this dataframe to an interactive table.\"\n",
              "              style=\"display:none;\">\n",
              "        \n",
              "  <svg xmlns=\"http://www.w3.org/2000/svg\" height=\"24px\"viewBox=\"0 0 24 24\"\n",
              "       width=\"24px\">\n",
              "    <path d=\"M0 0h24v24H0V0z\" fill=\"none\"/>\n",
              "    <path d=\"M18.56 5.44l.94 2.06.94-2.06 2.06-.94-2.06-.94-.94-2.06-.94 2.06-2.06.94zm-11 1L8.5 8.5l.94-2.06 2.06-.94-2.06-.94L8.5 2.5l-.94 2.06-2.06.94zm10 10l.94 2.06.94-2.06 2.06-.94-2.06-.94-.94-2.06-.94 2.06-2.06.94z\"/><path d=\"M17.41 7.96l-1.37-1.37c-.4-.4-.92-.59-1.43-.59-.52 0-1.04.2-1.43.59L10.3 9.45l-7.72 7.72c-.78.78-.78 2.05 0 2.83L4 21.41c.39.39.9.59 1.41.59.51 0 1.02-.2 1.41-.59l7.78-7.78 2.81-2.81c.8-.78.8-2.07 0-2.86zM5.41 20L4 18.59l7.72-7.72 1.47 1.35L5.41 20z\"/>\n",
              "  </svg>\n",
              "      </button>\n",
              "      \n",
              "  <style>\n",
              "    .colab-df-container {\n",
              "      display:flex;\n",
              "      flex-wrap:wrap;\n",
              "      gap: 12px;\n",
              "    }\n",
              "\n",
              "    .colab-df-convert {\n",
              "      background-color: #E8F0FE;\n",
              "      border: none;\n",
              "      border-radius: 50%;\n",
              "      cursor: pointer;\n",
              "      display: none;\n",
              "      fill: #1967D2;\n",
              "      height: 32px;\n",
              "      padding: 0 0 0 0;\n",
              "      width: 32px;\n",
              "    }\n",
              "\n",
              "    .colab-df-convert:hover {\n",
              "      background-color: #E2EBFA;\n",
              "      box-shadow: 0px 1px 2px rgba(60, 64, 67, 0.3), 0px 1px 3px 1px rgba(60, 64, 67, 0.15);\n",
              "      fill: #174EA6;\n",
              "    }\n",
              "\n",
              "    [theme=dark] .colab-df-convert {\n",
              "      background-color: #3B4455;\n",
              "      fill: #D2E3FC;\n",
              "    }\n",
              "\n",
              "    [theme=dark] .colab-df-convert:hover {\n",
              "      background-color: #434B5C;\n",
              "      box-shadow: 0px 1px 3px 1px rgba(0, 0, 0, 0.15);\n",
              "      filter: drop-shadow(0px 1px 2px rgba(0, 0, 0, 0.3));\n",
              "      fill: #FFFFFF;\n",
              "    }\n",
              "  </style>\n",
              "\n",
              "      <script>\n",
              "        const buttonEl =\n",
              "          document.querySelector('#df-bf53369c-c2a5-4b33-96d9-1cc2bd8d4cb1 button.colab-df-convert');\n",
              "        buttonEl.style.display =\n",
              "          google.colab.kernel.accessAllowed ? 'block' : 'none';\n",
              "\n",
              "        async function convertToInteractive(key) {\n",
              "          const element = document.querySelector('#df-bf53369c-c2a5-4b33-96d9-1cc2bd8d4cb1');\n",
              "          const dataTable =\n",
              "            await google.colab.kernel.invokeFunction('convertToInteractive',\n",
              "                                                     [key], {});\n",
              "          if (!dataTable) return;\n",
              "\n",
              "          const docLinkHtml = 'Like what you see? Visit the ' +\n",
              "            '<a target=\"_blank\" href=https://colab.research.google.com/notebooks/data_table.ipynb>data table notebook</a>'\n",
              "            + ' to learn more about interactive tables.';\n",
              "          element.innerHTML = '';\n",
              "          dataTable['output_type'] = 'display_data';\n",
              "          await google.colab.output.renderOutput(dataTable, element);\n",
              "          const docLink = document.createElement('div');\n",
              "          docLink.innerHTML = docLinkHtml;\n",
              "          element.appendChild(docLink);\n",
              "        }\n",
              "      </script>\n",
              "    </div>\n",
              "  </div>\n",
              "  "
            ],
            "text/plain": [
              "     Sample code number  Clump Thickness  Uniformity of Cell Size  \\\n",
              "208             1218860                1                        1   \n",
              "253             1100524                6                       10   \n",
              "254             1116116                9                       10   \n",
              "258             1198641                3                        1   \n",
              "272              320675                3                        3   \n",
              "338              704097                1                        1   \n",
              "561             1321942                5                        1   \n",
              "684              466906                1                        1   \n",
              "\n",
              "     Uniformity of Cell Shape  Marginal Adhesion  Single Epithelial Cell Size  \\\n",
              "208                         1                  1                            1   \n",
              "253                        10                  2                            8   \n",
              "254                        10                  1                           10   \n",
              "258                         1                  1                            2   \n",
              "272                         5                  2                            3   \n",
              "338                         1                  1                            1   \n",
              "561                         1                  1                            2   \n",
              "684                         1                  1                            2   \n",
              "\n",
              "    Bare Nuclei   Bland Chromatin   Normal Nucleoli  Mitoses  Class  \n",
              "208            1                 3                1        1      2  \n",
              "253           10                 7                3        3      4  \n",
              "254            8                 3                3        1      4  \n",
              "258            1                 3                1        1      2  \n",
              "272           10                 7                1        1      4  \n",
              "338            1                 2                1        1      2  \n",
              "561            1                 3                1        1      2  \n",
              "684            1                 1                1        1      2  "
            ]
          },
          "execution_count": 12,
          "metadata": {},
          "output_type": "execute_result"
        }
      ],
      "source": [
        "duplicate = df[df.duplicated()]\n",
        "duplicate"
      ]
    },
    {
      "cell_type": "code",
      "execution_count": null,
      "metadata": {
        "colab": {
          "base_uri": "https://localhost:8080/"
        },
        "id": "1DpKUEm77sRb",
        "outputId": "e031d592-9ac6-48ea-bb3b-e8158a896bee"
      },
      "outputs": [
        {
          "data": {
            "text/plain": [
              "8"
            ]
          },
          "execution_count": 13,
          "metadata": {},
          "output_type": "execute_result"
        }
      ],
      "source": [
        "#Display the Number of Duplicate Rows\n",
        "df.duplicated().sum()"
      ]
    },
    {
      "cell_type": "code",
      "execution_count": null,
      "metadata": {
        "id": "Oi8jQMVf73Ht"
      },
      "outputs": [],
      "source": [
        "#Drop all the Duplicate Rows\n",
        "df.drop_duplicates(inplace = True)"
      ]
    },
    {
      "cell_type": "code",
      "execution_count": null,
      "metadata": {
        "colab": {
          "base_uri": "https://localhost:8080/"
        },
        "id": "UP9jz0CD8RLX",
        "outputId": "9afc35dd-cbe8-409a-b1f0-51a206c296e2"
      },
      "outputs": [
        {
          "data": {
            "text/plain": [
              "(691, 11)"
            ]
          },
          "execution_count": 15,
          "metadata": {},
          "output_type": "execute_result"
        }
      ],
      "source": [
        "df.shape"
      ]
    },
    {
      "cell_type": "code",
      "execution_count": null,
      "metadata": {
        "colab": {
          "base_uri": "https://localhost:8080/"
        },
        "id": "idIYEZ2p8j4e",
        "outputId": "eb37da09-7a4e-47a9-b65c-3af44eafaff3"
      },
      "outputs": [
        {
          "data": {
            "text/plain": [
              "Sample code number             0\n",
              "Clump Thickness                0\n",
              "Uniformity of Cell Size        0\n",
              "Uniformity of Cell Shape       0\n",
              "Marginal Adhesion              0\n",
              "Single Epithelial Cell Size    0\n",
              "Bare Nuclei                    0\n",
              "Bland Chromatin                0\n",
              "Normal Nucleoli                0\n",
              "Mitoses                        0\n",
              "Class                          0\n",
              "dtype: int64"
            ]
          },
          "execution_count": 16,
          "metadata": {},
          "output_type": "execute_result"
        }
      ],
      "source": [
        "#total count of null values in each columns\n",
        "df.isnull().sum()"
      ]
    },
    {
      "cell_type": "code",
      "execution_count": null,
      "metadata": {
        "colab": {
          "base_uri": "https://localhost:8080/"
        },
        "id": "R3PKJAxIsA8b",
        "outputId": "04c5828b-fa91-4f0e-f265-b2cb3f95e854"
      },
      "outputs": [
        {
          "data": {
            "text/plain": [
              "2    453\n",
              "4    238\n",
              "Name: Class, dtype: int64"
            ]
          },
          "execution_count": 17,
          "metadata": {},
          "output_type": "execute_result"
        }
      ],
      "source": [
        "# Get the count of malignant and Benign cells\n",
        "df['Class'].value_counts()"
      ]
    },
    {
      "cell_type": "code",
      "execution_count": null,
      "metadata": {
        "colab": {
          "base_uri": "https://localhost:8080/",
          "height": 351
        },
        "id": "MxbrzCResBUv",
        "outputId": "ec5114c0-0e95-4903-967a-d5f8531d9aa7"
      },
      "outputs": [
        {
          "name": "stderr",
          "output_type": "stream",
          "text": [
            "/usr/local/lib/python3.8/dist-packages/seaborn/_decorators.py:36: FutureWarning: Pass the following variable as a keyword arg: x. From version 0.12, the only valid positional argument will be `data`, and passing other arguments without an explicit keyword will result in an error or misinterpretation.\n",
            "  warnings.warn(\n"
          ]
        },
        {
          "data": {
            "text/plain": [
              "<matplotlib.axes._subplots.AxesSubplot at 0x7fbcc48abfd0>"
            ]
          },
          "execution_count": 18,
          "metadata": {},
          "output_type": "execute_result"
        },
        {
          "data": {
            "image/png": "[encoded data removed]",
            "text/plain": [
              "<Figure size 432x288 with 1 Axes>"
            ]
          },
          "metadata": {},
          "output_type": "display_data"
        }
      ],
      "source": [
        "#visualizing the data\n",
        "sns.countplot(Y,label=\"count\")"
      ]
    },
    {
      "cell_type": "code",
      "execution_count": null,
      "metadata": {
        "colab": {
          "base_uri": "https://localhost:8080/"
        },
        "id": "fRuPoUyqBQzr",
        "outputId": "1542772d-5768-4a2d-e1fc-c3a2772c0001"
      },
      "outputs": [
        {
          "data": {
            "text/plain": [
              "Sample code number             False\n",
              "Clump Thickness                False\n",
              "Uniformity of Cell Size        False\n",
              "Uniformity of Cell Shape       False\n",
              "Marginal Adhesion              False\n",
              "Single Epithelial Cell Size    False\n",
              "Bare Nuclei                    False\n",
              "Bland Chromatin                False\n",
              "Normal Nucleoli                False\n",
              "Mitoses                        False\n",
              "Class                          False\n",
              "dtype: bool"
            ]
          },
          "execution_count": 19,
          "metadata": {},
          "output_type": "execute_result"
        }
      ],
      "source": [
        "df.isnull().any()"
      ]
    },
    {
      "cell_type": "code",
      "execution_count": null,
      "metadata": {
        "colab": {
          "base_uri": "https://localhost:8080/",
          "height": 1000
        },
        "id": "tIoWPV8bxvsY",
        "outputId": "c67b2c1d-2008-481c-b432-d194566ebc22"
      },
      "outputs": [
        {
          "data": {
            "text/plain": [
              "<seaborn.axisgrid.PairGrid at 0x7fbcc47ddac0>"
            ]
          },
          "execution_count": 20,
          "metadata": {},
          "output_type": "execute_result"
        },
        {
          "data": {
            "image/png": "[encoded data removed]",
            "text/plain": [
              "<Figure size 1620x1620 with 90 Axes>"
            ]
          },
          "metadata": {},
          "output_type": "display_data"
        }
      ],
      "source": [
        "sns.pairplot(df.iloc[:,1:11])"
      ]
    },
    {
      "cell_type": "code",
      "execution_count": null,
      "metadata": {
        "colab": {
          "base_uri": "https://localhost:8080/",
          "height": 428
        },
        "id": "JTvEqf_Hxv_u",
        "outputId": "1e2b5dd8-a608-465e-b891-d0ef02d3ec97"
      },
      "outputs": [
        {
          "data": {
            "text/html": [
              "\n",
              "  <div id=\"df-50aab8e5-e014-4da3-8c6a-a7715c840b84\">\n",
              "    <div class=\"colab-df-container\">\n",
              "      <div>\n",
              "<style scoped>\n",
              "    .dataframe tbody tr th:only-of-type {\n",
              "        vertical-align: middle;\n",
              "    }\n",
              "\n",
              "    .dataframe tbody tr th {\n",
              "        vertical-align: top;\n",
              "    }\n",
              "\n",
              "    .dataframe thead th {\n",
              "        text-align: right;\n",
              "    }\n",
              "</style>\n",
              "<table border=\"1\" class=\"dataframe\">\n",
              "  <thead>\n",
              "    <tr style=\"text-align: right;\">\n",
              "      <th></th>\n",
              "      <th>Clump Thickness</th>\n",
              "      <th>Uniformity of Cell Size</th>\n",
              "      <th>Uniformity of Cell Shape</th>\n",
              "      <th>Marginal Adhesion</th>\n",
              "      <th>Single Epithelial Cell Size</th>\n",
              "      <th>Bland Chromatin</th>\n",
              "      <th>Normal Nucleoli</th>\n",
              "      <th>Mitoses</th>\n",
              "      <th>Class</th>\n",
              "    </tr>\n",
              "  </thead>\n",
              "  <tbody>\n",
              "    <tr>\n",
              "      <th>Clump Thickness</th>\n",
              "      <td>1.000000</td>\n",
              "      <td>0.643340</td>\n",
              "      <td>0.653752</td>\n",
              "      <td>0.487949</td>\n",
              "      <td>0.517448</td>\n",
              "      <td>0.561076</td>\n",
              "      <td>0.535712</td>\n",
              "      <td>0.350354</td>\n",
              "      <td>0.716938</td>\n",
              "    </tr>\n",
              "    <tr>\n",
              "      <th>Uniformity of Cell Size</th>\n",
              "      <td>0.643340</td>\n",
              "      <td>1.000000</td>\n",
              "      <td>0.905420</td>\n",
              "      <td>0.713117</td>\n",
              "      <td>0.747111</td>\n",
              "      <td>0.759525</td>\n",
              "      <td>0.727239</td>\n",
              "      <td>0.460064</td>\n",
              "      <td>0.817720</td>\n",
              "    </tr>\n",
              "    <tr>\n",
              "      <th>Uniformity of Cell Shape</th>\n",
              "      <td>0.653752</td>\n",
              "      <td>0.905420</td>\n",
              "      <td>1.000000</td>\n",
              "      <td>0.690989</td>\n",
              "      <td>0.714393</td>\n",
              "      <td>0.738455</td>\n",
              "      <td>0.724693</td>\n",
              "      <td>0.440592</td>\n",
              "      <td>0.817693</td>\n",
              "    </tr>\n",
              "    <tr>\n",
              "      <th>Marginal Adhesion</th>\n",
              "      <td>0.487949</td>\n",
              "      <td>0.713117</td>\n",
              "      <td>0.690989</td>\n",
              "      <td>1.000000</td>\n",
              "      <td>0.608477</td>\n",
              "      <td>0.669813</td>\n",
              "      <td>0.602453</td>\n",
              "      <td>0.417167</td>\n",
              "      <td>0.701371</td>\n",
              "    </tr>\n",
              "    <tr>\n",
              "      <th>Single Epithelial Cell Size</th>\n",
              "      <td>0.517448</td>\n",
              "      <td>0.747111</td>\n",
              "      <td>0.714393</td>\n",
              "      <td>0.608477</td>\n",
              "      <td>1.000000</td>\n",
              "      <td>0.620518</td>\n",
              "      <td>0.634058</td>\n",
              "      <td>0.482644</td>\n",
              "      <td>0.681233</td>\n",
              "    </tr>\n",
              "    <tr>\n",
              "      <th>Bland Chromatin</th>\n",
              "      <td>0.561076</td>\n",
              "      <td>0.759525</td>\n",
              "      <td>0.738455</td>\n",
              "      <td>0.669813</td>\n",
              "      <td>0.620518</td>\n",
              "      <td>1.000000</td>\n",
              "      <td>0.669059</td>\n",
              "      <td>0.343821</td>\n",
              "      <td>0.756618</td>\n",
              "    </tr>\n",
              "    <tr>\n",
              "      <th>Normal Nucleoli</th>\n",
              "      <td>0.535712</td>\n",
              "      <td>0.727239</td>\n",
              "      <td>0.724693</td>\n",
              "      <td>0.602453</td>\n",
              "      <td>0.634058</td>\n",
              "      <td>0.669059</td>\n",
              "      <td>1.000000</td>\n",
              "      <td>0.427644</td>\n",
              "      <td>0.715540</td>\n",
              "    </tr>\n",
              "    <tr>\n",
              "      <th>Mitoses</th>\n",
              "      <td>0.350354</td>\n",
              "      <td>0.460064</td>\n",
              "      <td>0.440592</td>\n",
              "      <td>0.417167</td>\n",
              "      <td>0.482644</td>\n",
              "      <td>0.343821</td>\n",
              "      <td>0.427644</td>\n",
              "      <td>1.000000</td>\n",
              "      <td>0.424111</td>\n",
              "    </tr>\n",
              "    <tr>\n",
              "      <th>Class</th>\n",
              "      <td>0.716938</td>\n",
              "      <td>0.817720</td>\n",
              "      <td>0.817693</td>\n",
              "      <td>0.701371</td>\n",
              "      <td>0.681233</td>\n",
              "      <td>0.756618</td>\n",
              "      <td>0.715540</td>\n",
              "      <td>0.424111</td>\n",
              "      <td>1.000000</td>\n",
              "    </tr>\n",
              "  </tbody>\n",
              "</table>\n",
              "</div>\n",
              "      <button class=\"colab-df-convert\" onclick=\"convertToInteractive('df-50aab8e5-e014-4da3-8c6a-a7715c840b84')\"\n",
              "              title=\"Convert this dataframe to an interactive table.\"\n",
              "              style=\"display:none;\">\n",
              "        \n",
              "  <svg xmlns=\"http://www.w3.org/2000/svg\" height=\"24px\"viewBox=\"0 0 24 24\"\n",
              "       width=\"24px\">\n",
              "    <path d=\"M0 0h24v24H0V0z\" fill=\"none\"/>\n",
              "    <path d=\"M18.56 5.44l.94 2.06.94-2.06 2.06-.94-2.06-.94-.94-2.06-.94 2.06-2.06.94zm-11 1L8.5 8.5l.94-2.06 2.06-.94-2.06-.94L8.5 2.5l-.94 2.06-2.06.94zm10 10l.94 2.06.94-2.06 2.06-.94-2.06-.94-.94-2.06-.94 2.06-2.06.94z\"/><path d=\"M17.41 7.96l-1.37-1.37c-.4-.4-.92-.59-1.43-.59-.52 0-1.04.2-1.43.59L10.3 9.45l-7.72 7.72c-.78.78-.78 2.05 0 2.83L4 21.41c.39.39.9.59 1.41.59.51 0 1.02-.2 1.41-.59l7.78-7.78 2.81-2.81c.8-.78.8-2.07 0-2.86zM5.41 20L4 18.59l7.72-7.72 1.47 1.35L5.41 20z\"/>\n",
              "  </svg>\n",
              "      </button>\n",
              "      \n",
              "  <style>\n",
              "    .colab-df-container {\n",
              "      display:flex;\n",
              "      flex-wrap:wrap;\n",
              "      gap: 12px;\n",
              "    }\n",
              "\n",
              "    .colab-df-convert {\n",
              "      background-color: #E8F0FE;\n",
              "      border: none;\n",
              "      border-radius: 50%;\n",
              "      cursor: pointer;\n",
              "      display: none;\n",
              "      fill: #1967D2;\n",
              "      height: 32px;\n",
              "      padding: 0 0 0 0;\n",
              "      width: 32px;\n",
              "    }\n",
              "\n",
              "    .colab-df-convert:hover {\n",
              "      background-color: #E2EBFA;\n",
              "      box-shadow: 0px 1px 2px rgba(60, 64, 67, 0.3), 0px 1px 3px 1px rgba(60, 64, 67, 0.15);\n",
              "      fill: #174EA6;\n",
              "    }\n",
              "\n",
              "    [theme=dark] .colab-df-convert {\n",
              "      background-color: #3B4455;\n",
              "      fill: #D2E3FC;\n",
              "    }\n",
              "\n",
              "    [theme=dark] .colab-df-convert:hover {\n",
              "      background-color: #434B5C;\n",
              "      box-shadow: 0px 1px 3px 1px rgba(0, 0, 0, 0.15);\n",
              "      filter: drop-shadow(0px 1px 2px rgba(0, 0, 0, 0.3));\n",
              "      fill: #FFFFFF;\n",
              "    }\n",
              "  </style>\n",
              "\n",
              "      <script>\n",
              "        const buttonEl =\n",
              "          document.querySelector('#df-50aab8e5-e014-4da3-8c6a-a7715c840b84 button.colab-df-convert');\n",
              "        buttonEl.style.display =\n",
              "          google.colab.kernel.accessAllowed ? 'block' : 'none';\n",
              "\n",
              "        async function convertToInteractive(key) {\n",
              "          const element = document.querySelector('#df-50aab8e5-e014-4da3-8c6a-a7715c840b84');\n",
              "          const dataTable =\n",
              "            await google.colab.kernel.invokeFunction('convertToInteractive',\n",
              "                                                     [key], {});\n",
              "          if (!dataTable) return;\n",
              "\n",
              "          const docLinkHtml = 'Like what you see? Visit the ' +\n",
              "            '<a target=\"_blank\" href=https://colab.research.google.com/notebooks/data_table.ipynb>data table notebook</a>'\n",
              "            + ' to learn more about interactive tables.';\n",
              "          element.innerHTML = '';\n",
              "          dataTable['output_type'] = 'display_data';\n",
              "          await google.colab.output.renderOutput(dataTable, element);\n",
              "          const docLink = document.createElement('div');\n",
              "          docLink.innerHTML = docLinkHtml;\n",
              "          element.appendChild(docLink);\n",
              "        }\n",
              "      </script>\n",
              "    </div>\n",
              "  </div>\n",
              "  "
            ],
            "text/plain": [
              "                             Clump Thickness  Uniformity of Cell Size  \\\n",
              "Clump Thickness                     1.000000                 0.643340   \n",
              "Uniformity of Cell Size             0.643340                 1.000000   \n",
              "Uniformity of Cell Shape            0.653752                 0.905420   \n",
              "Marginal Adhesion                   0.487949                 0.713117   \n",
              "Single Epithelial Cell Size         0.517448                 0.747111   \n",
              "Bland Chromatin                     0.561076                 0.759525   \n",
              "Normal Nucleoli                     0.535712                 0.727239   \n",
              "Mitoses                             0.350354                 0.460064   \n",
              "Class                               0.716938                 0.817720   \n",
              "\n",
              "                             Uniformity of Cell Shape  Marginal Adhesion  \\\n",
              "Clump Thickness                              0.653752           0.487949   \n",
              "Uniformity of Cell Size                      0.905420           0.713117   \n",
              "Uniformity of Cell Shape                     1.000000           0.690989   \n",
              "Marginal Adhesion                            0.690989           1.000000   \n",
              "Single Epithelial Cell Size                  0.714393           0.608477   \n",
              "Bland Chromatin                              0.738455           0.669813   \n",
              "Normal Nucleoli                              0.724693           0.602453   \n",
              "Mitoses                                      0.440592           0.417167   \n",
              "Class                                        0.817693           0.701371   \n",
              "\n",
              "                             Single Epithelial Cell Size  Bland Chromatin   \\\n",
              "Clump Thickness                                 0.517448          0.561076   \n",
              "Uniformity of Cell Size                         0.747111          0.759525   \n",
              "Uniformity of Cell Shape                        0.714393          0.738455   \n",
              "Marginal Adhesion                               0.608477          0.669813   \n",
              "Single Epithelial Cell Size                     1.000000          0.620518   \n",
              "Bland Chromatin                                 0.620518          1.000000   \n",
              "Normal Nucleoli                                 0.634058          0.669059   \n",
              "Mitoses                                         0.482644          0.343821   \n",
              "Class                                           0.681233          0.756618   \n",
              "\n",
              "                             Normal Nucleoli   Mitoses     Class  \n",
              "Clump Thickness                     0.535712  0.350354  0.716938  \n",
              "Uniformity of Cell Size             0.727239  0.460064  0.817720  \n",
              "Uniformity of Cell Shape            0.724693  0.440592  0.817693  \n",
              "Marginal Adhesion                   0.602453  0.417167  0.701371  \n",
              "Single Epithelial Cell Size         0.634058  0.482644  0.681233  \n",
              "Bland Chromatin                     0.669059  0.343821  0.756618  \n",
              "Normal Nucleoli                     1.000000  0.427644  0.715540  \n",
              "Mitoses                             0.427644  1.000000  0.424111  \n",
              "Class                               0.715540  0.424111  1.000000  "
            ]
          },
          "execution_count": 21,
          "metadata": {},
          "output_type": "execute_result"
        }
      ],
      "source": [
        "df.iloc[:,1:11].corr()"
      ]
    },
    {
      "cell_type": "code",
      "execution_count": null,
      "metadata": {
        "colab": {
          "base_uri": "https://localhost:8080/",
          "height": 728
        },
        "id": "_s7z3yO_IY76",
        "outputId": "ac374421-0be4-47c0-db5b-25f04f7e8f58"
      },
      "outputs": [
        {
          "data": {
            "text/plain": [
              "<matplotlib.axes._subplots.AxesSubplot at 0x7fbcc04a7b50>"
            ]
          },
          "execution_count": 22,
          "metadata": {},
          "output_type": "execute_result"
        },
        {
          "data": {
            "image/png": "[encoded data removed]",
            "text/plain": [
              "<Figure size 720x720 with 2 Axes>"
            ]
          },
          "metadata": {},
          "output_type": "display_data"
        }
      ],
      "source": [
        "## visualize the correlation\n",
        "plt.figure(figsize=(10,10))\n",
        "sns.heatmap(df.iloc[:,1:11].corr(),annot=True,fmt=\".0%\")"
      ]
    },
    {
      "cell_type": "code",
      "execution_count": null,
      "metadata": {
        "id": "rFgAJzsyIi8C"
      },
      "outputs": [],
      "source": [
        "from sklearn.model_selection import train_test_split\n",
        "X_train,X_test,Y_train,Y_test=train_test_split(X,Y,test_size=0.20,random_state=0)"
      ]
    },
    {
      "cell_type": "code",
      "execution_count": null,
      "metadata": {
        "id": "-wDkFJ78IuB6"
      },
      "outputs": [],
      "source": [
        "from sklearn.preprocessing import StandardScaler\n",
        "X_train=StandardScaler().fit_transform(X_train)\n",
        "X_test=StandardScaler().fit_transform(X_test)"
      ]
    },
    {
      "cell_type": "code",
      "execution_count": null,
      "metadata": {
        "colab": {
          "base_uri": "https://localhost:8080/"
        },
        "id": "0Iru7FZOhpSk",
        "outputId": "7e495ef3-89d8-49a1-f559-a87fbd50b173"
      },
      "outputs": [
        {
          "data": {
            "text/plain": [
              "(559, 10)"
            ]
          },
          "execution_count": 25,
          "metadata": {},
          "output_type": "execute_result"
        }
      ],
      "source": [
        "X_train.shape"
      ]
    },
    {
      "cell_type": "code",
      "execution_count": null,
      "metadata": {
        "colab": {
          "base_uri": "https://localhost:8080/",
          "height": 361
        },
        "id": "yaX-ib60EJbi",
        "outputId": "7e197b83-0f6b-410a-9713-86377e09d69a"
      },
      "outputs": [
        {
          "name": "stderr",
          "output_type": "stream",
          "text": [
            "/usr/local/lib/python3.8/dist-packages/seaborn/distributions.py:2619: FutureWarning: `distplot` is a deprecated function and will be removed in a future version. Please adapt your code to use either `displot` (a figure-level function with similar flexibility) or `histplot` (an axes-level function for histograms).\n",
            "  warnings.warn(msg, FutureWarning)\n"
          ]
        },
        {
          "data": {
            "text/plain": [
              "<matplotlib.axes._subplots.AxesSubplot at 0x7fbcbde36be0>"
            ]
          },
          "execution_count": 26,
          "metadata": {},
          "output_type": "execute_result"
        },
        {
          "data": {
            "image/png": "[encoded data removed]",
            "text/plain": [
              "<Figure size 432x288 with 1 Axes>"
            ]
          },
          "metadata": {},
          "output_type": "display_data"
        }
      ],
      "source": [
        "sns.set_theme()\n",
        "sns.set_style('darkgrid')\n",
        "sns.distplot(Y_train,color='blue')"
      ]
    },
    {
      "cell_type": "code",
      "execution_count": null,
      "metadata": {
        "colab": {
          "base_uri": "https://localhost:8080/"
        },
        "id": "PQ0ji6otEq3Q",
        "outputId": "dbd47a2a-9f34-4e41-b6e6-7952647d51f8"
      },
      "outputs": [
        {
          "data": {
            "text/plain": [
              "array([[-1.08564892,  2.02838346,  0.2995061 , ..., -0.57777378,\n",
              "         0.04124139, -0.32425801],\n",
              "       [ 0.13804167,  1.66945141,  2.25768045, ..., -0.1599529 ,\n",
              "         0.04124139, -0.32425801],\n",
              "       [-0.13312821, -1.20200501, -0.67958108, ..., -0.99559467,\n",
              "        -0.60816532, -0.32425801],\n",
              "       ...,\n",
              "       [ 0.38253213, -0.12520886, -0.67958108, ..., -0.99559467,\n",
              "        -0.60816532, -0.32425801],\n",
              "       [ 0.62721986,  0.2337232 , -0.67958108, ..., -0.57777378,\n",
              "        -0.60816532, -0.32425801],\n",
              "       [-1.4049915 , -1.20200501, -0.67958108, ..., -0.99559467,\n",
              "        -0.60816532, -0.32425801]])"
            ]
          },
          "execution_count": 27,
          "metadata": {},
          "output_type": "execute_result"
        }
      ],
      "source": [
        "X_train"
      ]
    },
    {
      "cell_type": "code",
      "execution_count": null,
      "metadata": {
        "id": "CSTlKrqyg0BL"
      },
      "outputs": [],
      "source": [
        "# accuracy_score, confusion_matrix, roc_auc_score, roc_curve\n",
        "\n",
        "from sklearn.metrics import accuracy_score, confusion_matrix, roc_auc_score, roc_curve"
      ]
    },
    {
      "cell_type": "code",
      "execution_count": null,
      "metadata": {
        "id": "iwTN8sXglev7"
      },
      "outputs": [],
      "source": [
        "def kfold(mod,X,Y):\n",
        "  from sklearn.model_selection import KFold\n",
        "  from pyparsing import results\n",
        "  from sklearn.model_selection import cross_val_score\n",
        "  from sklearn.metrics import accuracy_score\n",
        "  kfold_validation=KFold(10)\n",
        "  results=cross_val_score(mod,X,Y,cv=kfold_validation)\n",
        "  return (np.mean(results))\n"
      ]
    },
    {
      "cell_type": "code",
      "execution_count": null,
      "metadata": {
        "id": "WMoKXJAKJMeH"
      },
      "outputs": [],
      "source": [
        "def models(X_train,Y_train):\n",
        "\n",
        "        #logistic regression\n",
        "        from sklearn.linear_model import LogisticRegression\n",
        "        log=LogisticRegression(random_state=0)\n",
        "        log.fit(X_train,Y_train)\n",
        "        log_pred=log.predict(X_test)\n",
        "        \n",
        "        \n",
        "        \n",
        "        #Decision Tree\n",
        "        from sklearn.tree import DecisionTreeClassifier\n",
        "        tree=DecisionTreeClassifier(random_state=0,criterion=\"entropy\")\n",
        "        tree.fit(X_train,Y_train)\n",
        "        tree_pred=tree.predict(X_test)\n",
        "\n",
        "        \n",
        "        \n",
        "\n",
        "        #Random Forest\n",
        "        from sklearn.ensemble import RandomForestClassifier\n",
        "        forest=RandomForestClassifier(random_state=0,criterion=\"entropy\",n_estimators=10)\n",
        "        forest.fit(X_train,Y_train)\n",
        "        forest_pred=forest.predict(X_test)\n",
        "         \n",
        "        \n",
        "        # Gaussian Naive Bayes\n",
        "        from sklearn.naive_bayes import GaussianNB\n",
        "        gnb=GaussianNB()\n",
        "        gnb.fit(X_train,Y_train)\n",
        "        gnb_pred=gnb.predict(X_test)\n",
        "\n",
        "        # SVM \n",
        "        from sklearn.svm import SVC  \n",
        "        svc = SVC(kernel='linear')  \n",
        "        svc.fit(X_train, Y_train)\n",
        "        svc_pred=svc.predict(X_test)\n",
        "\n",
        "        print('[0]logistic regression accuracy:',accuracy_score(log_pred,Y_test))\n",
        "        print('[1]Decision tree accuracy:',accuracy_score(tree_pred,Y_test))\n",
        "        print('[2]Random forest accuracy:',accuracy_score(forest_pred,Y_test))\n",
        "        print('[3]Gaussian Naive Bayes accuracy:',accuracy_score(gnb_pred,Y_test))\n",
        "        print('[4]SVM accuracy:',accuracy_score(svc_pred,Y_test))\n",
        "                                                        \n",
        "        return kfold(log,X_train,Y_train), kfold(tree,X_train,Y_train), kfold(forest,X_train,Y_train), kfold(gnb,X_train,Y_train), kfold(svc,X_train,Y_train)\n",
        "        "
      ]
    },
    {
      "cell_type": "markdown",
      "metadata": {
        "id": "GRMxvx-EsrCr"
      },
      "source": [
        "**Without KFold Accuracy**"
      ]
    },
    {
      "cell_type": "code",
      "execution_count": null,
      "metadata": {
        "colab": {
          "base_uri": "https://localhost:8080/"
        },
        "id": "shp22vE6JT5g",
        "outputId": "ecfa2428-5258-438f-cc23-d0cf3d508134"
      },
      "outputs": [
        {
          "name": "stdout",
          "output_type": "stream",
          "text": [
            "[0]logistic regression accuracy: 0.9714285714285714\n",
            "[1]Decision tree accuracy: 0.9285714285714286\n",
            "[2]Random forest accuracy: 0.9785714285714285\n",
            "[3]Gaussian Naive Bayes accuracy: 0.9571428571428572\n",
            "[4]SVM accuracy: 0.9714285714285714\n"
          ]
        }
      ],
      "source": [
        "model=models(X_train,Y_train)\n"
      ]
    },
    {
      "cell_type": "markdown",
      "metadata": {
        "id": "ufkzXzgWsw4-"
      },
      "source": [
        "**With KFold Accuracy**"
      ]
    },
    {
      "cell_type": "code",
      "execution_count": null,
      "metadata": {
        "colab": {
          "base_uri": "https://localhost:8080/"
        },
        "id": "JGAPfV6tccMl",
        "outputId": "42e4a311-65b7-4dce-ff95-2fd398667f2c"
      },
      "outputs": [
        {
          "data": {
            "text/plain": [
              "[0.9606818181818182,\n",
              " 0.9409740259740259,\n",
              " 0.9606493506493505,\n",
              " 0.9624675324675325,\n",
              " 0.9606818181818182]"
            ]
          },
          "execution_count": 32,
          "metadata": {},
          "output_type": "execute_result"
        }
      ],
      "source": [
        "model=list(model)\n",
        "model"
      ]
    },
    {
      "cell_type": "markdown",
      "metadata": {
        "id": "bM97a-wHH5lJ"
      },
      "source": [
        "**Train using Bagging**"
      ]
    },
    {
      "cell_type": "code",
      "execution_count": null,
      "metadata": {
        "id": "fvoHsSLibNYS"
      },
      "outputs": [],
      "source": [
        "bagging_scores = {}"
      ]
    },
    {
      "cell_type": "code",
      "execution_count": null,
      "metadata": {
        "id": "Y7etJMU5bV2h"
      },
      "outputs": [],
      "source": [
        "def get_bagging_scores(model,x,y):\n",
        "  from sklearn.ensemble import BaggingClassifier\n",
        "  bag_model= BaggingClassifier(\n",
        "    base_estimator=model, \n",
        "    n_estimators=100, \n",
        "    max_samples=0.9, \n",
        "    oob_score=True,\n",
        "    random_state=0)\n",
        "  bag_model.fit(x, y)\n",
        "  return bag_model.oob_score_"
      ]
    },
    {
      "cell_type": "code",
      "execution_count": null,
      "metadata": {
        "id": "M0vTHsthb0hy"
      },
      "outputs": [],
      "source": [
        "def bag_scores():\n",
        "  from sklearn.tree import DecisionTreeClassifier\n",
        "  bagging_scores['tree'] = get_bagging_scores(DecisionTreeClassifier(),X_train, Y_train)\n",
        "\n",
        "  from sklearn.ensemble import RandomForestClassifier\n",
        "  bagging_scores['forest'] = get_bagging_scores(RandomForestClassifier(),X_train, Y_train)\n",
        "\n",
        "  from sklearn.naive_bayes import GaussianNB\n",
        "  bagging_scores['gauss'] = get_bagging_scores(GaussianNB(),X_train, Y_train)\n",
        "\n",
        "  from sklearn.svm import SVC\n",
        "  bagging_scores['svc'] = get_bagging_scores(SVC(),X_train, Y_train)\n",
        "\n",
        "  from sklearn.linear_model import LogisticRegression\n",
        "  bagging_scores['log'] = get_bagging_scores(LogisticRegression(),X_train, Y_train)\n",
        "\n",
        "  print(bagging_scores)"
      ]
    },
    {
      "cell_type": "code",
      "execution_count": null,
      "metadata": {
        "colab": {
          "base_uri": "https://localhost:8080/"
        },
        "id": "TRtx-Mk_cwyN",
        "outputId": "c7fa5e92-2fd3-4e18-efdf-7a7edfc4dbd7"
      },
      "outputs": [
        {
          "name": "stdout",
          "output_type": "stream",
          "text": [
            "{'tree': 0.964221824686941, 'forest': 0.9731663685152058, 'gauss': 0.962432915921288, 'svc': 0.964221824686941, 'log': 0.964221824686941}\n"
          ]
        }
      ],
      "source": [
        "bag_scores()"
      ]
    },
    {
      "cell_type": "code",
      "execution_count": null,
      "metadata": {
        "id": "30vA_VUicwjY"
      },
      "outputs": [],
      "source": []
    },
    {
      "cell_type": "markdown",
      "metadata": {
        "id": "Dp_UfjmCWwrF"
      },
      "source": [
        "**best algo**"
      ]
    },
    {
      "cell_type": "code",
      "execution_count": null,
      "metadata": {
        "id": "ZktWNt68_jaV"
      },
      "outputs": [],
      "source": [
        "from sklearn.naive_bayes import GaussianNB\n",
        "gnb = GaussianNB()\n",
        "gnb.fit(X_train,Y_train)\n",
        "pred = gnb.predict(X_test)"
      ]
    },
    {
      "cell_type": "code",
      "execution_count": null,
      "metadata": {
        "id": "bAB_mlaGyBkk"
      },
      "outputs": [],
      "source": []
    },
    {
      "cell_type": "markdown",
      "metadata": {
        "id": "qhk0asItyC-b"
      },
      "source": [
        "**Boosting**"
      ]
    },
    {
      "cell_type": "code",
      "execution_count": null,
      "metadata": {
        "colab": {
          "base_uri": "https://localhost:8080/"
        },
        "id": "GHNmvqHsyBXO",
        "outputId": "0f800d98-8f51-472a-f8b1-75a9ab5ed985"
      },
      "outputs": [
        {
          "name": "stdout",
          "output_type": "stream",
          "text": [
            "Learning rate:  0.05\n",
            "Accuracy score (training): 0.966\n",
            "Accuracy score (validation): 0.964\n",
            "Learning rate:  0.075\n",
            "Accuracy score (training): 0.971\n",
            "Accuracy score (validation): 0.964\n",
            "Learning rate:  0.1\n",
            "Accuracy score (training): 0.973\n",
            "Accuracy score (validation): 0.971\n",
            "Learning rate:  0.25\n",
            "Accuracy score (training): 0.973\n",
            "Accuracy score (validation): 0.971\n",
            "Learning rate:  0.5\n",
            "Accuracy score (training): 0.982\n",
            "Accuracy score (validation): 0.971\n",
            "Learning rate:  0.75\n",
            "Accuracy score (training): 0.995\n",
            "Accuracy score (validation): 0.979\n",
            "Learning rate:  1\n",
            "Accuracy score (training): 0.998\n",
            "Accuracy score (validation): 0.957\n"
          ]
        }
      ],
      "source": [
        "from sklearn.metrics import classification_report, confusion_matrix\n",
        "from sklearn.ensemble import GradientBoostingClassifier\n",
        "lr_list = [0.05, 0.075, 0.1, 0.25, 0.5, 0.75, 1]\n",
        "\n",
        "for learning_rate in lr_list:\n",
        "    gb_clf = GradientBoostingClassifier(n_estimators=20, learning_rate=learning_rate, max_features=2, max_depth=2, random_state=0)\n",
        "    gb_clf.fit(X_train, Y_train)\n",
        "\n",
        "    print(\"Learning rate: \", learning_rate)\n",
        "    print(\"Accuracy score (training): {0:.3f}\".format(gb_clf.score(X_train, Y_train)))\n",
        "    print(\"Accuracy score (validation): {0:.3f}\".format(gb_clf.score(X_test, Y_test)))"
      ]
    },
    {
      "cell_type": "markdown",
      "metadata": {
        "id": "RQeLp-oty5iQ"
      },
      "source": [
        "**We're mainly interested in the classifier's accuracy on the validation set, but it looks like a learning rate of 0.75 gives us the best performance on the validation set and good performance on the training set.**"
      ]
    },
    {
      "cell_type": "code",
      "execution_count": null,
      "metadata": {
        "colab": {
          "base_uri": "https://localhost:8080/"
        },
        "id": "6k35cDQ6yBNG",
        "outputId": "4e887fd7-4abe-4cc5-c123-aa129568a083"
      },
      "outputs": [
        {
          "name": "stdout",
          "output_type": "stream",
          "text": [
            "Confusion Matrix:\n",
            "[[83  2]\n",
            " [ 1 54]]\n",
            "Classification Report\n",
            "              precision    recall  f1-score   support\n",
            "\n",
            "           0       0.99      0.98      0.98        85\n",
            "           1       0.96      0.98      0.97        55\n",
            "\n",
            "    accuracy                           0.98       140\n",
            "   macro avg       0.98      0.98      0.98       140\n",
            "weighted avg       0.98      0.98      0.98       140\n",
            "\n"
          ]
        }
      ],
      "source": [
        "gb_clf2 = GradientBoostingClassifier(n_estimators=20, learning_rate=0.75, max_features=2, max_depth=2, random_state=0)\n",
        "gb_clf2.fit(X_train, Y_train)\n",
        "predictions = gb_clf2.predict(X_test)\n",
        "\n",
        "print(\"Confusion Matrix:\")\n",
        "print(confusion_matrix(Y_test, predictions))\n",
        "\n",
        "print(\"Classification Report\")\n",
        "print(classification_report(Y_test, predictions))"
      ]
    },
    {
      "cell_type": "code",
      "execution_count": null,
      "metadata": {
        "id": "E2wxJE8kzSZH"
      },
      "outputs": [],
      "source": []
    },
    {
      "cell_type": "code",
      "execution_count": null,
      "metadata": {
        "id": "PHKvMldkzSPb"
      },
      "outputs": [],
      "source": []
    },
    {
      "cell_type": "code",
      "execution_count": null,
      "metadata": {
        "id": "mbis4ZgoyBJG"
      },
      "outputs": [],
      "source": []
    },
    {
      "cell_type": "markdown",
      "metadata": {
        "id": "nVgu2O9216ks"
      },
      "source": [
        "**Hyperparameter tunning**\n",
        "\n",
        "---\n",
        "\n"
      ]
    },
    {
      "cell_type": "code",
      "execution_count": null,
      "metadata": {
        "id": "7RPELQBljin6"
      },
      "outputs": [],
      "source": [
        "best_score_vals = {}\n",
        "best_params = {}"
      ]
    },
    {
      "cell_type": "code",
      "execution_count": null,
      "metadata": {
        "id": "4Ah0MDDdjwP7"
      },
      "outputs": [],
      "source": [
        "def do_grid_search(model, param):\n",
        "  from sklearn.model_selection import GridSearchCV\n",
        "\n",
        "  grid_search = GridSearchCV(model, param, cv=10,verbose=1,n_jobs=-1)      #................\n",
        " \n",
        "  grid_search.fit(X_train,Y_train)\n",
        "  \n",
        "  return grid_search.best_params_, grid_search.best_score_"
      ]
    },
    {
      "cell_type": "code",
      "execution_count": null,
      "metadata": {
        "id": "XxqozJuCksat"
      },
      "outputs": [],
      "source": [
        "def grid_search_val():\n",
        "  \n",
        "  from sklearn.ensemble import RandomForestClassifier\n",
        "  p1 = {'n_estimators':np.arange(5,100,5), 'max_features':np.arange(0.1,1.0,0.05)}\n",
        "  forest = do_grid_search(RandomForestClassifier(random_state=0),p1)\n",
        "  best_params['forest'] = forest[0]\n",
        "  best_score_vals['forest'] = forest[1]\n",
        "\n",
        "  from sklearn.tree import DecisionTreeClassifier\n",
        "  p2 = {'criterion':['gini','entropy'],\n",
        "        'max_depth':range(1,10)}\n",
        "  tree =  do_grid_search(DecisionTreeClassifier(),p2)\n",
        "  best_params['tree'] = tree[0]\n",
        "  best_score_vals['tree'] = tree[1]\n",
        "\n",
        "  from sklearn.linear_model import LogisticRegression\n",
        "  p3 = {'C': np.logspace(-4, 4, 50)}\n",
        "  log =  do_grid_search(LogisticRegression(),p3)\n",
        "  best_params['log'] = log[0]\n",
        "  best_score_vals['log'] = log[1]\n",
        "\n",
        "  from sklearn.naive_bayes import GaussianNB\n",
        "  p4 = {\n",
        "      'var_smoothing': range(1,5)\n",
        "  }\n",
        "  gnb =  do_grid_search(GaussianNB(),p4)\n",
        "  best_params['gnb'] = gnb[0]\n",
        "  best_score_vals['gnb'] = gnb[1]\n",
        "\n",
        "  from sklearn.svm import SVC\n",
        "  p5 = {\n",
        "      'C':[0.9],\n",
        "      'kernel':['rbf','linear','sigmoid']\n",
        "  }\n",
        "  sv =  do_grid_search(SVC(),p5)\n",
        "  best_params['sv'] = sv[0]\n",
        "  best_score_vals['sv'] = sv[1]\n",
        "\n",
        "  print(\"...............Best Parameters...............\")\n",
        "  print(best_params)\n",
        "  print(\"............Best score values...............\")\n",
        "  print(best_score_vals)"
      ]
    },
    {
      "cell_type": "code",
      "execution_count": null,
      "metadata": {
        "colab": {
          "background_save": true,
          "base_uri": "https://localhost:8080/"
        },
        "id": "YtxeFD7AnnS5",
        "outputId": "dc485e9f-84b7-4c90-d336-1a88d6fdd19f"
      },
      "outputs": [
        {
          "name": "stdout",
          "output_type": "stream",
          "text": [
            "Fitting 10 folds for each of 342 candidates, totalling 3420 fits\n",
            "Fitting 10 folds for each of 18 candidates, totalling 180 fits\n",
            "Fitting 10 folds for each of 50 candidates, totalling 500 fits\n",
            "Fitting 10 folds for each of 4 candidates, totalling 40 fits\n",
            "Fitting 10 folds for each of 3 candidates, totalling 30 fits\n",
            "...............Best Parameters...............\n",
            "{'forest': {'max_features': 0.1, 'n_estimators': 35}, 'tree': {'criterion': 'entropy', 'max_depth': 3}, 'log': {'C': 0.12648552168552957}, 'gnb': {'var_smoothing': 1}, 'sv': {'C': 0.9, 'kernel': 'rbf'}}\n",
            "............Best score values...............\n",
            "{'forest': 0.975, 'tree': 0.9445454545454546, 'log': 0.9642532467532469, 'gnb': 0.9463311688311687, 'sv': 0.9642532467532468}\n"
          ]
        }
      ],
      "source": [
        "grid_search_val()"
      ]
    },
    {
      "cell_type": "code",
      "execution_count": null,
      "metadata": {
        "colab": {
          "background_save": true
        },
        "id": "NwPQ5fvYnocY",
        "outputId": "4b30f84e-69f8-4804-83c0-1ad2dc631e2f"
      },
      "outputs": [
        {
          "data": {
            "text/plain": [
              "dict_keys(['C', 'break_ties', 'cache_size', 'class_weight', 'coef0', 'decision_function_shape', 'degree', 'gamma', 'kernel', 'max_iter', 'probability', 'random_state', 'shrinking', 'tol', 'verbose'])"
            ]
          },
          "execution_count": 44,
          "metadata": {},
          "output_type": "execute_result"
        }
      ],
      "source": [
        "from sklearn.svm import SVC\n",
        "SVC().get_params().keys()"
      ]
    },
    {
      "cell_type": "code",
      "execution_count": null,
      "metadata": {
        "colab": {
          "background_save": true
        },
        "id": "YifeT0x4noMa"
      },
      "outputs": [],
      "source": []
    },
    {
      "cell_type": "code",
      "execution_count": null,
      "metadata": {
        "colab": {
          "background_save": true
        },
        "id": "STJxvPLR1RrG"
      },
      "outputs": [],
      "source": []
    },
    {
      "cell_type": "code",
      "execution_count": null,
      "metadata": {
        "colab": {
          "background_save": true
        },
        "id": "epRalRoi1RWF"
      },
      "outputs": [],
      "source": []
    },
    {
      "cell_type": "code",
      "execution_count": null,
      "metadata": {
        "colab": {
          "background_save": true
        },
        "id": "nuebpPEk1REB"
      },
      "outputs": [],
      "source": []
    },
    {
      "cell_type": "code",
      "execution_count": null,
      "metadata": {
        "colab": {
          "background_save": true
        },
        "id": "DaapsVe01S0V"
      },
      "outputs": [],
      "source": []
    },
    {
      "cell_type": "code",
      "execution_count": null,
      "metadata": {
        "colab": {
          "background_save": true
        },
        "id": "LX-RdVbV1Swn"
      },
      "outputs": [],
      "source": []
    },
    {
      "cell_type": "code",
      "execution_count": null,
      "metadata": {
        "colab": {
          "background_save": true,
          "base_uri": "https://localhost:8080/"
        },
        "id": "RMnDiEy-14e3",
        "outputId": "94597fed-6180-4fbc-eb78-51c801f0d7f8"
      },
      "outputs": [
        {
          "name": "stdout",
          "output_type": "stream",
          "text": [
            "Fitting 10 folds for each of 342 candidates, totalling 3420 fits\n"
          ]
        },
        {
          "data": {
            "text/plain": [
              "GridSearchCV(cv=10, estimator=RandomForestClassifier(random_state=0), n_jobs=-1,\n",
              "             param_grid={'max_features': array([0.1 , 0.15, 0.2 , 0.25, 0.3 , 0.35, 0.4 , 0.45, 0.5 , 0.55, 0.6 ,\n",
              "       0.65, 0.7 , 0.75, 0.8 , 0.85, 0.9 , 0.95]),\n",
              "                         'n_estimators': array([ 5, 10, 15, 20, 25, 30, 35, 40, 45, 50, 55, 60, 65, 70, 75, 80, 85,\n",
              "       90, 95])},\n",
              "             scoring='r2', verbose=1)"
            ]
          },
          "execution_count": 45,
          "metadata": {},
          "output_type": "execute_result"
        }
      ],
      "source": [
        "# Grid Search\n",
        "\n",
        "from sklearn.model_selection import GridSearchCV, RandomizedSearchCV, train_test_split\n",
        "from sklearn.ensemble import RandomForestRegressor\n",
        "from sklearn.ensemble import RandomForestClassifier\n",
        "grid_search = GridSearchCV(RandomForestClassifier(random_state=0),\n",
        "                           {\n",
        "                              'n_estimators':np.arange(5,100,5),\n",
        "                              'max_features':np.arange(0.1,1.0,0.05),\n",
        "                            \n",
        "                            },cv=10, scoring=\"r2\",verbose=1,n_jobs=-1\n",
        "                           )\n",
        "grid_search.fit(X_test,Y_test)\n",
        "\n"
      ]
    },
    {
      "cell_type": "code",
      "execution_count": null,
      "metadata": {
        "colab": {
          "background_save": true
        },
        "id": "vKiP6ZOA4zkR",
        "outputId": "f4043e11-e177-4d35-8d8f-b65b72e0913d"
      },
      "outputs": [
        {
          "data": {
            "text/plain": [
              "{'max_features': 0.1, 'n_estimators': 20}"
            ]
          },
          "execution_count": 46,
          "metadata": {},
          "output_type": "execute_result"
        }
      ],
      "source": [
        "grid_search.best_params_"
      ]
    },
    {
      "cell_type": "code",
      "execution_count": null,
      "metadata": {
        "colab": {
          "background_save": true
        },
        "id": "Zs92hSfg42U2",
        "outputId": "e94f65fe-b7e9-42fe-b452-0b279dcfe8aa"
      },
      "outputs": [
        {
          "data": {
            "text/plain": [
              "0.908611111111111"
            ]
          },
          "execution_count": 47,
          "metadata": {},
          "output_type": "execute_result"
        }
      ],
      "source": [
        "grid_search.best_score_"
      ]
    },
    {
      "cell_type": "code",
      "execution_count": null,
      "metadata": {
        "colab": {
          "background_save": true
        },
        "id": "VzTYkAeCjct3"
      },
      "outputs": [],
      "source": []
    },
    {
      "cell_type": "code",
      "execution_count": null,
      "metadata": {
        "colab": {
          "background_save": true
        },
        "id": "pZkWlPtXjcqa"
      },
      "outputs": [],
      "source": []
    },
    {
      "cell_type": "code",
      "execution_count": null,
      "metadata": {
        "colab": {
          "background_save": true
        },
        "id": "3wCaptFojcm-"
      },
      "outputs": [],
      "source": []
    },
    {
      "cell_type": "code",
      "execution_count": null,
      "metadata": {
        "colab": {
          "background_save": true
        },
        "id": "v6CMWX85jcio"
      },
      "outputs": [],
      "source": []
    },
    {
      "cell_type": "code",
      "execution_count": null,
      "metadata": {
        "colab": {
          "background_save": true
        },
        "id": "PZU0TJOT1b2K"
      },
      "outputs": [],
      "source": []
    },
    {
      "cell_type": "code",
      "execution_count": null,
      "metadata": {
        "colab": {
          "background_save": true
        },
        "id": "t-P4YKJd1bym"
      },
      "outputs": [],
      "source": []
    },
    {
      "cell_type": "code",
      "execution_count": null,
      "metadata": {
        "colab": {
          "background_save": true
        },
        "id": "bkmwDuhOhr1C",
        "outputId": "8a4ef462-86b8-4fd1-9bbe-a2d6137c3c33"
      },
      "outputs": [
        {
          "name": "stdout",
          "output_type": "stream",
          "text": [
            "[[80  1]\n",
            " [ 5 54]]\n"
          ]
        }
      ],
      "source": [
        "#Confusion matrix\n",
        "\n",
        "cf = confusion_matrix(pred, Y_test)\n",
        "print(cf)"
      ]
    },
    {
      "cell_type": "code",
      "execution_count": null,
      "metadata": {
        "colab": {
          "background_save": true
        },
        "id": "a32ED4fIlkZR"
      },
      "outputs": [],
      "source": [
        "# ROC CURVE\n",
        "\n",
        "def plot_roc(true_y, y_prob):\n",
        "  fpr, tpr, thresholds = roc_curve(true_y, y_prob)\n",
        "  plt.plot(fpr, tpr)\n",
        "  plt.xlabel('false rate')\n",
        "  plt.ylabel('tuie rate')"
      ]
    },
    {
      "cell_type": "code",
      "execution_count": null,
      "metadata": {
        "id": "3jcuYebOmXUs"
      },
      "outputs": [],
      "source": [
        "# AUC CURVE\n",
        "plot_roc(pred,Y_test)\n",
        "print(f'model AUC score: {roc_auc_score(pred,Y_test)}')"
      ]
    },
    {
      "cell_type": "code",
      "execution_count": null,
      "metadata": {
        "id": "QFcJ1c94oF4s"
      },
      "outputs": [],
      "source": [
        "# precision_score, recall_score, confusion_matrix, classification_report, accuracy_score, f1_score\n",
        "\n",
        "from sklearn.metrics import precision_score, \\\n",
        "    recall_score, confusion_matrix, classification_report, \\\n",
        "    accuracy_score, f1_score\n",
        "\n",
        "print ('Accuracy:', accuracy_score(pred, Y_test))\n",
        "print( 'F1 score:', f1_score(pred,Y_test))\n",
        "print( 'Recall:', recall_score(pred,Y_test))\n",
        "print( 'Precision:', precision_score(pred,Y_test))\n",
        "print( '\\n clasification report:\\n', classification_report(pred,Y_test))\n",
        "print( '\\n confussion matrix:\\n',confusion_matrix(pred,Y_test))"
      ]
    }
  ],
  "metadata": {
    "colab": {
      "provenance": []
    },
    "kernelspec": {
      "display_name": "Python 3",
      "name": "python3"
    },
    "language_info": {
      "name": "python"
    }
  },
  "nbformat": 4,
  "nbformat_minor": 0
}